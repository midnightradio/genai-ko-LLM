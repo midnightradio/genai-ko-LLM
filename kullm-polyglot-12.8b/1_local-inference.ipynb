{
 "cells": [
  {
   "cell_type": "markdown",
   "id": "0dd12191-6266-481a-aa03-a0f13e2ea253",
   "metadata": {},
   "source": [
    "# Korean LLM (Large Language Model) Inference\n",
    "---\n",
    "\n",
    "### Model: [KKULM-Polyglot-12.8B](https://huggingface.co/nlpai-lab/kullm-polyglot-12.8b-v2)\n",
    "\n",
    "- LLM GitHub: https://github.com/nlpai-lab/KULLM\n",
    "- Hugging Face model hub: https://huggingface.co/nlpai-lab/kullm-polyglot-12.8b-v2"
   ]
  },
  {
   "cell_type": "code",
   "execution_count": 5,
   "id": "5a056d19-3339-4778-b73d-f5fe14d50ae0",
   "metadata": {
    "tags": []
   },
   "outputs": [
    {
     "name": "stdout",
     "output_type": "stream",
     "text": [
      "The autoreload extension is already loaded. To reload it, use:\n",
      "  %reload_ext autoreload\n"
     ]
    }
   ],
   "source": [
    "%load_ext autoreload\n",
    "%autoreload 2\n",
    "import sys\n",
    "sys.path.append('../utils')\n",
    "sys.path.append('../templates')"
   ]
  },
  {
   "cell_type": "code",
   "execution_count": 6,
   "id": "3190812b-be85-4ef7-8d28-fa04bdb0ba86",
   "metadata": {
    "tags": []
   },
   "outputs": [],
   "source": [
    "!pip install -qU boto3 huggingface_hub sagemaker langchain deepspeed \n",
    "!pip install -qU bitsandbytes accelerate peft"
   ]
  },
  {
   "cell_type": "code",
   "execution_count": 7,
   "id": "8a104756-a389-403c-bb3a-b512ed6b948d",
   "metadata": {
    "tags": []
   },
   "outputs": [],
   "source": [
    "import os\n",
    "from pathlib import Path\n",
    "from huggingface_hub import snapshot_download\n",
    "\n",
    "HF_MODEL_ID = \"nlpai-lab/kullm-polyglot-12.8b-v2\"\n",
    "\n",
    "# Only download pytorch checkpoint files\n",
    "allow_patterns = [\"*.json\", \"*.pt\", \"*.bin\", \"*.txt\", \"*.model\"]\n",
    "\n",
    "# create model dir\n",
    "model_name = HF_MODEL_ID.split(\"/\")[-1].replace('.', '-')\n",
    "model_tar_dir = Path(f\"/home/ec2-user/SageMaker/models/{model_name}\")\n",
    "if not os.path.isdir(model_tar_dir):\n",
    "    os.makedirs(model_tar_dir, exist_ok=True)\n",
    "    # Download model from Hugging Face into model_dir\n",
    "    snapshot_download(\n",
    "        HF_MODEL_ID, \n",
    "        local_dir=str(model_tar_dir), \n",
    "        local_dir_use_symlinks=False,\n",
    "        allow_patterns=allow_patterns,\n",
    "        cache_dir=\"/home/ec2-user/SageMaker/\"\n",
    "    )"
   ]
  },
  {
   "cell_type": "markdown",
   "id": "9b05f804-b674-4c6f-94d6-a4c82b87c763",
   "metadata": {},
   "source": [
    "<img src=\"./images/Slide3.png\"/>"
   ]
  },
  {
   "cell_type": "markdown",
   "id": "750452af-e892-433d-ab17-6e1d0ec43362",
   "metadata": {},
   "source": [
    "<img src=\"./images/Slide4.png\"/>"
   ]
  },
  {
   "cell_type": "markdown",
   "id": "7c0045a1-6152-4a43-8321-fcb888ed1d57",
   "metadata": {
    "tags": []
   },
   "source": [
    "<img src=\"./images/Slide5.png\"/>"
   ]
  },
  {
   "cell_type": "code",
   "execution_count": 8,
   "id": "e443a10e-7fb5-4ae3-b0a4-52744dbbbc9c",
   "metadata": {
    "tags": []
   },
   "outputs": [],
   "source": [
    "import torch\n",
    "from transformers import BitsAndBytesConfig\n",
    "bnb_config = BitsAndBytesConfig(\n",
    "    load_in_4bit=True,\n",
    "    bnb_4bit_use_double_quant=True,\n",
    "    bnb_4bit_quant_type=\"nf4\",\n",
    "    bnb_4bit_compute_dtype=torch.bfloat16\n",
    ")"
   ]
  },
  {
   "cell_type": "code",
   "execution_count": 9,
   "id": "0df4797e-f1ef-4432-82aa-7bbf37815424",
   "metadata": {
    "tags": []
   },
   "outputs": [
    {
     "name": "stdout",
     "output_type": "stream",
     "text": [
      "[2023-09-06 02:14:02,227] [INFO] [real_accelerator.py:158:get_accelerator] Setting ds_accelerator to cuda (auto detect)\n"
     ]
    },
    {
     "data": {
      "application/vnd.jupyter.widget-view+json": {
       "model_id": "d6f74711d47d4dbb9364a1e5d65b75c6",
       "version_major": 2,
       "version_minor": 0
      },
      "text/plain": [
       "Loading checkpoint shards:   0%|          | 0/3 [00:00<?, ?it/s]"
      ]
     },
     "metadata": {},
     "output_type": "display_data"
    }
   ],
   "source": [
    "import torch\n",
    "import deepspeed\n",
    "from transformers import pipeline, AutoModelForCausalLM, AutoTokenizer, GPTNeoXLayer\n",
    "\n",
    "model = AutoModelForCausalLM.from_pretrained(\n",
    "    model_tar_dir,\n",
    "    torch_dtype=torch.float16,\n",
    "    low_cpu_mem_usage=True,\n",
    "    #cache_dir=local_model_path,\n",
    "    quantization_config=bnb_config\n",
    ")"
   ]
  },
  {
   "cell_type": "code",
   "execution_count": 12,
   "id": "916d82fa-84df-4afb-ad82-f3314d45fb5e",
   "metadata": {
    "tags": []
   },
   "outputs": [
    {
     "data": {
      "application/vnd.jupyter.widget-view+json": {
       "model_id": "0a27d0b840fe4829b383b2a2b2f85e7a",
       "version_major": 2,
       "version_minor": 0
      },
      "text/plain": [
       "Loading checkpoint shards:   0%|          | 0/3 [00:00<?, ?it/s]"
      ]
     },
     "metadata": {},
     "output_type": "display_data"
    }
   ],
   "source": [
    "model_fp16 = AutoModelForCausalLM.from_pretrained(\n",
    "    model_tar_dir,\n",
    "    torch_dtype=torch.float16,\n",
    "    low_cpu_mem_usage=True\n",
    ")"
   ]
  },
  {
   "cell_type": "code",
   "execution_count": 13,
   "id": "0d4a020a-211b-4c62-babf-57e360a166b9",
   "metadata": {
    "tags": []
   },
   "outputs": [
    {
     "data": {
      "text/plain": [
       "25954985040"
      ]
     },
     "execution_count": 13,
     "metadata": {},
     "output_type": "execute_result"
    }
   ],
   "source": [
    "model_fp16.get_memory_footprint()"
   ]
  },
  {
   "cell_type": "code",
   "execution_count": 14,
   "id": "adbe0135-f059-40c8-a0b2-f4c3e765b478",
   "metadata": {
    "tags": []
   },
   "outputs": [
    {
     "data": {
      "text/plain": [
       "7080614480"
      ]
     },
     "execution_count": 14,
     "metadata": {},
     "output_type": "execute_result"
    }
   ],
   "source": [
    "model.get_memory_footprint()"
   ]
  },
  {
   "cell_type": "markdown",
   "id": "b93e6e40-f7a1-4589-aad7-eb17065e30b6",
   "metadata": {},
   "source": [
    "<img src=\"./images/Slide6.png\"/>"
   ]
  },
  {
   "cell_type": "code",
   "execution_count": 15,
   "id": "1feefbff-db06-4e71-b7f8-6d8c313df2ef",
   "metadata": {
    "tags": []
   },
   "outputs": [
    {
     "data": {
      "application/vnd.jupyter.widget-view+json": {
       "model_id": "e23919cfc15949a998fc3e13194f2080",
       "version_major": 2,
       "version_minor": 0
      },
      "text/plain": [
       "Downloading (…)okenizer_config.json:   0%|          | 0.00/210 [00:00<?, ?B/s]"
      ]
     },
     "metadata": {},
     "output_type": "display_data"
    },
    {
     "data": {
      "application/vnd.jupyter.widget-view+json": {
       "model_id": "8518d90eb7bd4000b6c71d6e48649c6c",
       "version_major": 2,
       "version_minor": 0
      },
      "text/plain": [
       "Downloading (…)/main/tokenizer.json:   0%|          | 0.00/1.65M [00:00<?, ?B/s]"
      ]
     },
     "metadata": {},
     "output_type": "display_data"
    },
    {
     "data": {
      "application/vnd.jupyter.widget-view+json": {
       "model_id": "11d3e6dbe29449a4bf0d16436c6450a3",
       "version_major": 2,
       "version_minor": 0
      },
      "text/plain": [
       "Downloading (…)cial_tokens_map.json:   0%|          | 0.00/185 [00:00<?, ?B/s]"
      ]
     },
     "metadata": {},
     "output_type": "display_data"
    }
   ],
   "source": [
    "# config = {\n",
    "#     \"tensor_parallel\": {\"tp_size\": 1},\n",
    "#     \"dtype\": \"fp16\",\n",
    "#     \"injection_policy\": {\n",
    "#         GPTNeoXLayer:('attention.dense', 'mlp.dense_4h_to_h')\n",
    "#     }\n",
    "# }\n",
    "\n",
    "# modl = deepspeed.init_inference(model, config)\n",
    "\n",
    "local_rank = int(os.getenv('LOCAL_RANK', '0'))\n",
    "tokenizer = AutoTokenizer.from_pretrained(HF_MODEL_ID)\n",
    "generator = pipeline(\n",
    "    task=\"text-generation\", model=model, tokenizer=tokenizer\n",
    ")"
   ]
  },
  {
   "cell_type": "code",
   "execution_count": 16,
   "id": "a93f15c3-a307-43bc-875b-91b677132301",
   "metadata": {
    "tags": []
   },
   "outputs": [],
   "source": [
    "import json\n",
    "from inference_lib import Prompter\n",
    "prompter = Prompter(\"kullm\")\n",
    "\n",
    "params = {\n",
    "    \"do_sample\": False,\n",
    "    \"max_new_tokens\": 256,\n",
    "    \"return_full_text\": True,\n",
    "    \"temperature\": 0.01,\n",
    "    \"top_p\": 0.9,\n",
    "    \"return_full_text\": False,\n",
    "    \"repetition_penalty\": 1.1,\n",
    "    \"presence_penalty\": None,\n",
    "    \"eos_token_id\": 2,\n",
    "}\n",
    "\n",
    "instruction = \"아래 질문에 100글자 이상으로 자세하게 대답해줘.\"\n",
    "#instruction = \"\"\n",
    "input_text = \"고려대학교에 대해서 알려줘\"\n",
    "prompt = prompter.generate_prompt(instruction, input_text)\n",
    "payload = {\n",
    "    \"inputs\": [prompt,],\n",
    "    \"parameters\": params\n",
    "}"
   ]
  },
  {
   "cell_type": "code",
   "execution_count": 18,
   "id": "4ff35ba6-ff24-4ded-9178-dfd1d2b6374c",
   "metadata": {
    "tags": []
   },
   "outputs": [
    {
     "name": "stderr",
     "output_type": "stream",
     "text": [
      "Setting `pad_token_id` to `eos_token_id`:2 for open-end generation.\n",
      "Setting `pad_token_id` to `eos_token_id`:2 for open-end generation.\n"
     ]
    },
    {
     "name": "stdout",
     "output_type": "stream",
     "text": [
      "[[{'generated_text': '고려대학교는 한국의 명문 사립대학으로, 1931년 5월 1일에 설립되었습니다. 고려대학교는 한국에서 가장 오래된 고등 교육 기관 중 하나로, 한국의 역사와 문화적 전통을 이어가고 있습니다. 고려대학교는 학문과 연구 분야에서 뛰어난 성과를 거두며 한국 사회 발전에 기여하고 있으며, 다양한 분야에서 활약하는 동문들을 배출했습니다. 고려대학교는 학생들이 자신의 잠재력을 최대한 발휘할 수 있도록 지원하기 위해 최선을 다하고 있으며, 학생들에게 다양한 기회와 자원을 제공합니다.'}]]\n"
     ]
    },
    {
     "name": "stderr",
     "output_type": "stream",
     "text": [
      "Setting `pad_token_id` to `eos_token_id`:2 for open-end generation.\n"
     ]
    },
    {
     "name": "stdout",
     "output_type": "stream",
     "text": [
      "[[{'generated_text': '고려대학교는 한국의 명문 사립대학으로, 1931년 5월 1일에 설립되었습니다. 고려대학교는 한국에서 가장 오래된 고등 교육 기관 중 하나로, 한국의 역사와 문화적 전통을 이어가고 있습니다. 고려대학교는 학문과 연구 분야에서 뛰어난 성과를 거두며 한국 사회 발전에 기여하고 있으며, 다양한 분야에서 활약하는 동문들을 배출했습니다. 고려대학교는 학생들이 자신의 잠재력을 최대한 발휘할 수 있도록 지원하기 위해 최선을 다하고 있으며, 학생들에게 다양한 기회와 자원을 제공합니다.'}]]\n",
      "[[{'generated_text': '고려대학교는 한국의 명문 사립대학으로, 1931년 5월 1일에 설립되었습니다. 고려대학교는 한국에서 가장 오래된 고등 교육 기관 중 하나로, 한국의 역사와 문화적 전통을 이어가고 있습니다. 고려대학교는 학문과 연구 분야에서 뛰어난 성과를 거두며 한국 사회 발전에 기여하고 있으며, 다양한 분야에서 활약하는 동문들을 배출했습니다. 고려대학교는 학생들이 자신의 잠재력을 최대한 발휘할 수 있도록 지원하기 위해 최선을 다하고 있으며, 학생들에게 다양한 기회와 자원을 제공합니다.'}]]\n",
      "8.96 s ± 0 ns per loop (mean ± std. dev. of 1 run, 3 loops each)\n"
     ]
    }
   ],
   "source": [
    "%%timeit -n3 -r1\n",
    "text_inputs, params = payload[\"inputs\"], payload[\"parameters\"]\n",
    "result = generator(text_inputs, **params)\n",
    "print(result)"
   ]
  },
  {
   "cell_type": "code",
   "execution_count": null,
   "id": "a3301231-9acf-47da-9b75-19df6e221d57",
   "metadata": {},
   "outputs": [],
   "source": []
  }
 ],
 "metadata": {
  "kernelspec": {
   "display_name": "conda_pytorch_p310",
   "language": "python",
   "name": "conda_pytorch_p310"
  },
  "language_info": {
   "codemirror_mode": {
    "name": "ipython",
    "version": 3
   },
   "file_extension": ".py",
   "mimetype": "text/x-python",
   "name": "python",
   "nbconvert_exporter": "python",
   "pygments_lexer": "ipython3",
   "version": "3.10.12"
  }
 },
 "nbformat": 4,
 "nbformat_minor": 5
}
